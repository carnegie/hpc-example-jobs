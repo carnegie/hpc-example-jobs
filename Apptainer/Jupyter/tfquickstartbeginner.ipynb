{
 "cells": [
  {
   "cell_type": "markdown",
   "id": "2060ba01-ca55-44bc-a2c2-1b749b10f16a",
   "metadata": {},
   "source": [
    "## TensorFlow 2 quickstart for Beginners\n",
    "\n",
    "This is an example notebook from the [TensorFlow Documentation](https://github.com/tensorflow) to test our Tensorflow-2.18.0-jupyter Apptainer image. This code is a short intro to using Keras to test a neural network on classifying images. \n",
    "\n",
    "The whole guide can be found at: https://github.com/tensorflow/docs/blob/master/site/en/tutorials/quickstart/beginner.ipynb"
   ]
  },
  {
   "cell_type": "code",
   "execution_count": 2,
   "id": "393a99a7-e86f-4312-889b-58ba5dadc77c",
   "metadata": {},
   "outputs": [
    {
     "name": "stdout",
     "output_type": "stream",
     "text": [
      "TensorFlow version: 2.18.0\n"
     ]
    }
   ],
   "source": [
    "import tensorflow as tf\n",
    "print(\"TensorFlow version:\", tf.__version__)\n",
    "\n",
    "from tensorflow.keras.layers import Dense, Flatten, Conv2D\n",
    "from tensorflow.keras import Model"
   ]
  },
  {
   "cell_type": "code",
   "execution_count": 7,
   "id": "aa3a1c87-248d-4c91-8fb5-a6f54628994d",
   "metadata": {},
   "outputs": [
    {
     "name": "stdout",
     "output_type": "stream",
     "text": [
      "Downloading data from https://storage.googleapis.com/tensorflow/tf-keras-datasets/mnist.npz\n",
      "\u001b[1m11490434/11490434\u001b[0m \u001b[32m━━━━━━━━━━━━━━━━━━━━\u001b[0m\u001b[37m\u001b[0m \u001b[1m0s\u001b[0m 0us/step\n"
     ]
    }
   ],
   "source": [
    "mnist = tf.keras.datasets.mnist\n",
    "\n",
    "(x_train, y_train), (x_test, y_test) = mnist.load_data()\n",
    "x_train, x_test = x_train / 255.0, x_test / 255.0\n",
    "     "
   ]
  },
  {
   "cell_type": "code",
   "execution_count": 8,
   "id": "718e19a6-8616-4bb7-be89-f0e7fbde7e1e",
   "metadata": {},
   "outputs": [
    {
     "name": "stderr",
     "output_type": "stream",
     "text": [
      "/usr/local/lib/python3.11/dist-packages/keras/src/layers/reshaping/flatten.py:37: UserWarning: Do not pass an `input_shape`/`input_dim` argument to a layer. When using Sequential models, prefer using an `Input(shape)` object as the first layer in the model instead.\n",
      "  super().__init__(**kwargs)\n"
     ]
    }
   ],
   "source": [
    "model = tf.keras.models.Sequential([\n",
    "  tf.keras.layers.Flatten(input_shape=(28, 28)),\n",
    "  tf.keras.layers.Dense(128, activation='relu'),\n",
    "  tf.keras.layers.Dropout(0.2),\n",
    "  tf.keras.layers.Dense(10)\n",
    "])"
   ]
  },
  {
   "cell_type": "code",
   "execution_count": 9,
   "id": "a3436757-7694-4c45-98bc-74f269362f18",
   "metadata": {},
   "outputs": [
    {
     "data": {
      "text/plain": [
       "array([[-0.71370924,  0.18640882, -0.12447868, -0.6045662 ,  0.1255234 ,\n",
       "         0.7804634 ,  0.800589  , -0.91843075, -0.08043462,  0.12062007]],\n",
       "      dtype=float32)"
      ]
     },
     "execution_count": 9,
     "metadata": {},
     "output_type": "execute_result"
    }
   ],
   "source": [
    "predictions = model(x_train[:1]).numpy()\n",
    "predictions"
   ]
  },
  {
   "cell_type": "code",
   "execution_count": 10,
   "id": "808e68a5-177f-4996-8fc9-839a75821f8c",
   "metadata": {},
   "outputs": [
    {
     "data": {
      "text/plain": [
       "array([[0.04406025, 0.1083835 , 0.07942303, 0.04914135, 0.10198141,\n",
       "        0.19631696, 0.20030798, 0.03590355, 0.08299932, 0.10148259]],\n",
       "      dtype=float32)"
      ]
     },
     "execution_count": 10,
     "metadata": {},
     "output_type": "execute_result"
    }
   ],
   "source": [
    "tf.nn.softmax(predictions).numpy()"
   ]
  },
  {
   "cell_type": "code",
   "execution_count": 11,
   "id": "81f8ea65-b409-47fa-81f8-06af091e2220",
   "metadata": {},
   "outputs": [],
   "source": [
    "loss_fn = tf.keras.losses.SparseCategoricalCrossentropy(from_logits=True)"
   ]
  },
  {
   "cell_type": "code",
   "execution_count": 12,
   "id": "fb6b499c-ca10-4b82-a74c-ec5259c351fc",
   "metadata": {},
   "outputs": [
    {
     "data": {
      "text/plain": [
       "np.float32(1.6280248)"
      ]
     },
     "execution_count": 12,
     "metadata": {},
     "output_type": "execute_result"
    }
   ],
   "source": [
    "loss_fn(y_train[:1], predictions).numpy()"
   ]
  },
  {
   "cell_type": "code",
   "execution_count": 13,
   "id": "6fcf29e6-7aa5-4ac0-9cc0-30d298cedd1e",
   "metadata": {},
   "outputs": [],
   "source": [
    "model.compile(optimizer='adam',\n",
    "              loss=loss_fn,\n",
    "              metrics=['accuracy'])"
   ]
  },
  {
   "cell_type": "code",
   "execution_count": 14,
   "id": "711ef535-5442-4167-b860-bd7fc7885375",
   "metadata": {},
   "outputs": [
    {
     "name": "stdout",
     "output_type": "stream",
     "text": [
      "Epoch 1/5\n",
      "\u001b[1m1875/1875\u001b[0m \u001b[32m━━━━━━━━━━━━━━━━━━━━\u001b[0m\u001b[37m\u001b[0m \u001b[1m5s\u001b[0m 2ms/step - accuracy: 0.8565 - loss: 0.4968\n",
      "Epoch 2/5\n",
      "\u001b[1m1875/1875\u001b[0m \u001b[32m━━━━━━━━━━━━━━━━━━━━\u001b[0m\u001b[37m\u001b[0m \u001b[1m5s\u001b[0m 2ms/step - accuracy: 0.9554 - loss: 0.1530\n",
      "Epoch 3/5\n",
      "\u001b[1m1875/1875\u001b[0m \u001b[32m━━━━━━━━━━━━━━━━━━━━\u001b[0m\u001b[37m\u001b[0m \u001b[1m5s\u001b[0m 2ms/step - accuracy: 0.9666 - loss: 0.1111\n",
      "Epoch 4/5\n",
      "\u001b[1m1875/1875\u001b[0m \u001b[32m━━━━━━━━━━━━━━━━━━━━\u001b[0m\u001b[37m\u001b[0m \u001b[1m5s\u001b[0m 2ms/step - accuracy: 0.9732 - loss: 0.0877\n",
      "Epoch 5/5\n",
      "\u001b[1m1875/1875\u001b[0m \u001b[32m━━━━━━━━━━━━━━━━━━━━\u001b[0m\u001b[37m\u001b[0m \u001b[1m5s\u001b[0m 2ms/step - accuracy: 0.9773 - loss: 0.0741\n"
     ]
    },
    {
     "data": {
      "text/plain": [
       "<keras.src.callbacks.history.History at 0x7f2a1221d950>"
      ]
     },
     "execution_count": 14,
     "metadata": {},
     "output_type": "execute_result"
    }
   ],
   "source": [
    "model.fit(x_train, y_train, epochs=5)"
   ]
  },
  {
   "cell_type": "code",
   "execution_count": 15,
   "id": "b638efbd-c260-4a1e-bab7-d3bee3e43004",
   "metadata": {},
   "outputs": [
    {
     "name": "stdout",
     "output_type": "stream",
     "text": [
      "313/313 - 0s - 1ms/step - accuracy: 0.9781 - loss: 0.0725\n"
     ]
    },
    {
     "data": {
      "text/plain": [
       "[0.07254467904567719, 0.9781000018119812]"
      ]
     },
     "execution_count": 15,
     "metadata": {},
     "output_type": "execute_result"
    }
   ],
   "source": [
    "model.evaluate(x_test,  y_test, verbose=2)"
   ]
  },
  {
   "cell_type": "code",
   "execution_count": 16,
   "id": "989f567e-8ff9-4fd8-8c93-86f0dc7f9079",
   "metadata": {},
   "outputs": [],
   "source": [
    "probability_model = tf.keras.Sequential([\n",
    "  model,\n",
    "  tf.keras.layers.Softmax()\n",
    "])"
   ]
  },
  {
   "cell_type": "code",
   "execution_count": 17,
   "id": "6de64312-96b7-4f8c-ba76-2b1f8f2ad5b0",
   "metadata": {},
   "outputs": [
    {
     "data": {
      "text/plain": [
       "<tf.Tensor: shape=(5, 10), dtype=float32, numpy=\n",
       "array([[2.1398670e-08, 4.3740919e-10, 4.8832144e-06, 1.1729341e-04,\n",
       "        2.5605165e-10, 2.3335957e-07, 5.9896038e-12, 9.9985874e-01,\n",
       "        1.1083886e-07, 1.8717845e-05],\n",
       "       [4.2490964e-08, 1.8553257e-05, 9.9997318e-01, 6.3480829e-06,\n",
       "        1.2821017e-15, 3.1755187e-07, 9.2327149e-08, 1.6942913e-13,\n",
       "        1.4120128e-06, 2.4202848e-13],\n",
       "       [1.6097371e-06, 9.9842167e-01, 9.1146569e-05, 3.1039742e-06,\n",
       "        3.5103552e-05, 8.3749383e-06, 1.2900595e-05, 1.3254838e-03,\n",
       "        9.8697594e-05, 1.8512859e-06],\n",
       "       [9.9982327e-01, 1.1976362e-08, 4.9696893e-05, 1.3661790e-08,\n",
       "        2.0483688e-07, 1.6328506e-06, 1.5137627e-05, 1.9851977e-05,\n",
       "        1.3942755e-08, 9.0245478e-05],\n",
       "       [1.9469067e-06, 1.2582513e-08, 8.3743353e-06, 1.6938584e-06,\n",
       "        9.9198920e-01, 6.9046177e-07, 1.6103820e-07, 1.3051556e-04,\n",
       "        8.0706268e-06, 7.8593753e-03]], dtype=float32)>"
      ]
     },
     "execution_count": 17,
     "metadata": {},
     "output_type": "execute_result"
    }
   ],
   "source": [
    "probability_model(x_test[:5])"
   ]
  }
 ],
 "metadata": {
  "kernelspec": {
   "display_name": "Python 3 (ipykernel)",
   "language": "python",
   "name": "python3"
  },
  "language_info": {
   "codemirror_mode": {
    "name": "ipython",
    "version": 3
   },
   "file_extension": ".py",
   "mimetype": "text/x-python",
   "name": "python",
   "nbconvert_exporter": "python",
   "pygments_lexer": "ipython3",
   "version": "3.11.4"
  }
 },
 "nbformat": 4,
 "nbformat_minor": 5
}
